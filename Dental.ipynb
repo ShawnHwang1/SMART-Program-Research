{
 "cells": [
  {
   "cell_type": "code",
   "execution_count": 1,
   "id": "f3de2736-5e6f-447b-b085-675b1246e75c",
   "metadata": {},
   "outputs": [],
   "source": [
    "# !pip install torch torchvision torchaudio\n",
    "# !pip install matplotlib\n",
    "# !pip install Pillow"
   ]
  },
  {
   "cell_type": "markdown",
   "id": "e96fe895-7a0e-45fb-8399-48a37aae22f7",
   "metadata": {},
   "source": [
    "# Libraries"
   ]
  },
  {
   "cell_type": "code",
   "execution_count": 1,
   "id": "43e2b5cf-8450-4bdf-856b-e73aa5549211",
   "metadata": {},
   "outputs": [
    {
     "name": "stdout",
     "output_type": "stream",
     "text": [
      "2.5.1+cpu\n",
      "False\n"
     ]
    }
   ],
   "source": [
    "import torch\n",
    "import matplotlib.pyplot as plt\n",
    "from PIL import Image\n",
    "\n",
    "print(torch.__version__)\n",
    "print(torch.cuda.is_available())"
   ]
  },
  {
   "cell_type": "code",
   "execution_count": 2,
   "id": "c755d92a-a93e-420e-8b82-3fb0d0d01906",
   "metadata": {},
   "outputs": [],
   "source": [
    "import json\n",
    "import cv2\n",
    "import numpy as np\n",
    "import os"
   ]
  },
  {
   "cell_type": "markdown",
   "id": "d408f6b0-ae8f-4cc0-a15c-78c5b9b08787",
   "metadata": {},
   "source": [
    "# Isolation\n"
   ]
  },
  {
   "cell_type": "code",
   "execution_count": 18,
   "id": "79dec8d0-5e54-4c21-869d-d6b3c041ca25",
   "metadata": {},
   "outputs": [],
   "source": [
    "img_path = r\"C:\\Users\\shawn\\Downloads\\SMART\\Radiographs\\Radiographs\\797.JPG\"\n",
    "image = Image.open(img_path)\n",
    "image.show()"
   ]
  },
  {
   "cell_type": "code",
   "execution_count": 19,
   "id": "fb15761c-2043-46f1-b1fb-f2f96fc1ec39",
   "metadata": {},
   "outputs": [],
   "source": [
    "from PIL import Image, ImageDraw\n",
    "\n",
    "# img_path = r\"C:\\Users\\shawn\\Downloads\\SMART\\Segmentation\\Segmentation\\teeth_mask\\797.JPG\"\n",
    "img_path = r\"C:\\Users\\shawn\\Downloads\\SMART\\Radiographs\\Radiographs\\997.JPG\"\n",
    "json_path = r\"C:\\Users\\shawn\\Downloads\\SMART\\Segmentation\\Segmentation\\teeth_bbox.json\"\n",
    "\n",
    "image = Image.open(img_path)\n",
    "with open(json_path, 'r') as f:\n",
    "    bbox_data = json.load(f)\n",
    "\n",
    "# Get bounding boxes for .JPG\n",
    "sample_entry = next(item for item in bbox_data if item[\"External ID\"].lower() == \"997.jpg\")\n",
    "boxes = sample_entry[\"Label\"][\"objects\"]\n",
    "\n",
    "# Draw\n",
    "draw = ImageDraw.Draw(image)\n",
    "for obj in boxes:\n",
    "    box = obj[\"bounding box\"]\n",
    "    draw.rectangle(box, outline=\"red\", width=2)\n",
    "    draw.text((box[0], box[1]-10), obj[\"title\"], fill=\"yellow\")\n",
    "\n",
    "# Show the image with boxes\n",
    "image.show()\n"
   ]
  },
  {
   "cell_type": "code",
   "execution_count": 23,
   "id": "580655d2-883d-449e-b667-5c5925bf592f",
   "metadata": {},
   "outputs": [
    {
     "name": "stdout",
     "output_type": "stream",
     "text": [
      "Rotated image size: 840 x 1615\n"
     ]
    }
   ],
   "source": [
    "#IDEA? Boxes seem to be placed on the bottom left but are all bunched up together, so lets try using data augmentation to make the image a certain way. \n",
    "#note: img 748 has no teeth LOL so no boxes but this works for diff images.\n",
    "# Rotating Image\n",
    "img_path = r\"C:\\Users\\shawn\\Downloads\\SMART\\Radiographs\\Radiographs\\670.JPG\"\n",
    "image = Image.open(img_path).rotate(90, expand=True)\n",
    "rotated_width, rotated_height = image.size\n",
    "print(f\"Rotated image size: {rotated_width} x {rotated_height}\")\n",
    "\n",
    "with open(json_path, 'r') as f:\n",
    "    bbox_data = json.load(f)\n",
    "\n",
    "entry = next(item for item in bbox_data if item[\"External ID\"].lower() == \"670.jpg\")\n",
    "boxes = entry[\"Label\"][\"objects\"]\n",
    "\n",
    "draw = ImageDraw.Draw(image)\n",
    "\n",
    "for obj in boxes:\n",
    "    x1, y1, x2, y2 = obj[\"bounding box\"]\n",
    "    draw.rectangle([x1, y1, x2, y2], outline=\"red\", width=2)\n",
    "    draw.text((x1, y1 - 10), obj[\"title\"], fill=\"yellow\")\n",
    "\n",
    "image.show()\n",
    "\n"
   ]
  },
  {
   "cell_type": "code",
   "execution_count": null,
   "id": "d3bdf666-a0f9-46af-a6b8-c678d067aead",
   "metadata": {},
   "outputs": [],
   "source": []
  }
 ],
 "metadata": {
  "kernelspec": {
   "display_name": "Python 3 (ipykernel)",
   "language": "python",
   "name": "python3"
  },
  "language_info": {
   "codemirror_mode": {
    "name": "ipython",
    "version": 3
   },
   "file_extension": ".py",
   "mimetype": "text/x-python",
   "name": "python",
   "nbconvert_exporter": "python",
   "pygments_lexer": "ipython3",
   "version": "3.12.7"
  }
 },
 "nbformat": 4,
 "nbformat_minor": 5
}
